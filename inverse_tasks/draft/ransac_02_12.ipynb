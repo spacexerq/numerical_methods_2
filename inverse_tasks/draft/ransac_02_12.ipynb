{
 "cells": [
  {
   "cell_type": "code",
   "execution_count": 1,
   "metadata": {
    "collapsed": true
   },
   "outputs": [],
   "source": [
    "import methods_num\n",
    "import numpy as np\n",
    "import matplotlib.pyplot as plt\n",
    "from cycler import cycler\n",
    "import random as rd"
   ]
  },
  {
   "cell_type": "code",
   "execution_count": 2,
   "outputs": [],
   "source": [
    "def primal_ransac(k,b,epsilon, array, x_probe):\n",
    "    alpha = np.arctan(k)\n",
    "    x_sw = epsilon*np.cos(alpha)\n",
    "    y_sw = epsilon*np.sin(alpha)\n",
    "    num_point = 0\n",
    "    new_array = []\n",
    "    len_sample = len(array)\n",
    "    for i in range(len_sample):\n",
    "        for j in range(len_sample):\n",
    "            if array[j,0] <= k*x_probe + b + x_sw or array[j,0]>= k*x_probe + b - x_sw:\n",
    "                if array[j,1] <= k*x_probe + b + y_sw or array[j,1]>= k*x_probe + b - y_sw:\n",
    "                    new_array[num_point] = array[i,j]\n",
    "                    num_point+=1\n",
    "    return new_array\n",
    "\n",
    "def line(point1, point2):\n",
    "    k = (point1[1]-point2[1])/(point1[0]-point2[0])\n",
    "    b = point1[1] - k*point1[0]\n",
    "    return k,b\n",
    "\n",
    "def ransac(array, epsilon, prob_ratio):\n",
    "    len_sample = len(array)\n",
    "    points_used = [[0]*len_sample]*len_sample\n",
    "    K = round(np.log(1-prob_ratio)/(np.log(1-prob_succ(len_sample, int(prob_ratio*len_sample))[0])))\n",
    "    print(\"Number of iterations needed is\", K)\n",
    "    new_array = []\n",
    "    output_array = []\n",
    "    len_out = 0\n",
    "    for i in range(K):\n",
    "        p1 = rd.randint(0,len_sample)\n",
    "        p2 = rd.randint(0,len_sample)\n",
    "        if p1!=p2:\n",
    "            if points_used[p1][p2]!=0:\n",
    "                k, b = line(array[p1],array[p2])\n",
    "                new_array = primal_ransac(k,b,epsilon,array, array[p1,0])\n",
    "                points_used[p1][p2] = 1\n",
    "                points_used[p2][p1] = 1\n",
    "                if len(new_array) >= int(prob_ratio*len_sample):\n",
    "                    output_array = new_array\n",
    "                    break\n",
    "    return output_array\n",
    "\n",
    "def prob_succ(num_values, num_trusted):\n",
    "    p_1 = np.math.factorial(num_trusted)*np.math.factorial(num_values-2)/(np.math.factorial(num_values)*np.math.factorial(num_trusted-2))\n",
    "    return p_1, (1-p_1)"
   ],
   "metadata": {
    "collapsed": false
   }
  },
  {
   "cell_type": "code",
   "execution_count": 12,
   "outputs": [
    {
     "name": "stdout",
     "output_type": "stream",
     "text": [
      "Number of iterations needed is 2\n",
      "[]\n"
     ]
    },
    {
     "ename": "IndexError",
     "evalue": "list index out of range",
     "output_type": "error",
     "traceback": [
      "\u001B[1;31m---------------------------------------------------------------------------\u001B[0m",
      "\u001B[1;31mIndexError\u001B[0m                                Traceback (most recent call last)",
      "Cell \u001B[1;32mIn [12], line 15\u001B[0m\n\u001B[0;32m     13\u001B[0m sample_x \u001B[38;5;241m=\u001B[39m \u001B[38;5;28mlist\u001B[39m(\u001B[38;5;28mzip\u001B[39m(\u001B[38;5;241m*\u001B[39msample))[\u001B[38;5;241m0\u001B[39m]\n\u001B[0;32m     14\u001B[0m sample_y \u001B[38;5;241m=\u001B[39m \u001B[38;5;28mlist\u001B[39m(\u001B[38;5;28mzip\u001B[39m(\u001B[38;5;241m*\u001B[39msample))[\u001B[38;5;241m1\u001B[39m]\n\u001B[1;32m---> 15\u001B[0m result_x \u001B[38;5;241m=\u001B[39m \u001B[38;5;28;43mlist\u001B[39;49m\u001B[43m(\u001B[49m\u001B[38;5;28;43mzip\u001B[39;49m\u001B[43m(\u001B[49m\u001B[38;5;241;43m*\u001B[39;49m\u001B[43mresult\u001B[49m\u001B[43m)\u001B[49m\u001B[43m)\u001B[49m\u001B[43m[\u001B[49m\u001B[38;5;241;43m0\u001B[39;49m\u001B[43m]\u001B[49m\n\u001B[0;32m     16\u001B[0m result_y \u001B[38;5;241m=\u001B[39m \u001B[38;5;28mlist\u001B[39m(\u001B[38;5;28mzip\u001B[39m(\u001B[38;5;241m*\u001B[39mresult))[\u001B[38;5;241m1\u001B[39m]\n\u001B[0;32m     17\u001B[0m plt\u001B[38;5;241m.\u001B[39mplot(result_x, result_y, \u001B[38;5;124m\"\u001B[39m\u001B[38;5;124mo\u001B[39m\u001B[38;5;124m\"\u001B[39m)\n",
      "\u001B[1;31mIndexError\u001B[0m: list index out of range"
     ]
    }
   ],
   "source": [
    "n_noise = 100\n",
    "n = 200\n",
    "sample = [[0,0]]*(n_noise+n)\n",
    "for i in range(n_noise):\n",
    "    sample[i] = [rd.randint(0,100), rd.randint(0,100)]\n",
    "k_sample = 0.8\n",
    "for i in range(n):\n",
    "    x_temp = rd.randint(0,100)\n",
    "    y_noise = rd.randint(0,20)\n",
    "    sample[i+n_noise] = [x_temp, k_sample*x_temp+y_noise]\n",
    "result = ransac(sample, 1, 0.7)\n",
    "print(result)\n",
    "sample_x = list(zip(*sample))[0]\n",
    "sample_y = list(zip(*sample))[1]\n",
    "result_x = list(zip(*result))[0]\n",
    "result_y = list(zip(*result))[1]\n",
    "plt.plot(result_x, result_y, \"o\")\n",
    "plt.plot(sample_x, sample_y, \"o\", color = \"red\")\n",
    "plt.show()"
   ],
   "metadata": {
    "collapsed": false
   }
  },
  {
   "cell_type": "code",
   "execution_count": 11,
   "outputs": [
    {
     "data": {
      "text/plain": "(0.4666666666666667, 0.5333333333333333)"
     },
     "execution_count": 11,
     "metadata": {},
     "output_type": "execute_result"
    }
   ],
   "source": [
    "prob_succ(10,7)"
   ],
   "metadata": {
    "collapsed": false
   }
  },
  {
   "cell_type": "code",
   "execution_count": 13,
   "outputs": [],
   "source": [],
   "metadata": {
    "collapsed": false
   }
  }
 ],
 "metadata": {
  "kernelspec": {
   "display_name": "Python 3",
   "language": "python",
   "name": "python3"
  },
  "language_info": {
   "codemirror_mode": {
    "name": "ipython",
    "version": 2
   },
   "file_extension": ".py",
   "mimetype": "text/x-python",
   "name": "python",
   "nbconvert_exporter": "python",
   "pygments_lexer": "ipython2",
   "version": "2.7.6"
  }
 },
 "nbformat": 4,
 "nbformat_minor": 0
}
