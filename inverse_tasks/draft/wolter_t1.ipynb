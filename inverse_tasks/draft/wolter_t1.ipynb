{
 "cells": [
  {
   "cell_type": "code",
   "execution_count": 2,
   "outputs": [],
   "source": [
    "import methods_num\n",
    "import numpy as np\n",
    "import matplotlib.pyplot as plt\n",
    "from cycler import cycler"
   ],
   "metadata": {
    "collapsed": false
   }
  },
  {
   "cell_type": "markdown",
   "source": [
    "x(t)"
   ],
   "metadata": {
    "collapsed": false
   }
  },
  {
   "cell_type": "code",
   "execution_count": null,
   "outputs": [],
   "source": [
    "a = 0\n",
    "b = 1\n",
    "h = 1e-3\n",
    "\n",
    "N = int((b-a)/h)\n",
    "\n",
    "t = np.linspace(a, b, N)\n",
    "\n",
    "beta = 1\n",
    "f = np.array([np.exp(beta*t[i]) for i in range(N)])\n",
    "f_noise = f + np.random.randn(N)\n",
    "\n",
    "l = -1\n",
    "K = np.empty((N,N))\n",
    "for i in range(N):\n",
    "    for j in range(i+1):\n",
    "        K[i, j] = np.exp(l*(t[i]-t[j]))"
   ],
   "metadata": {
    "collapsed": false
   }
  }
 ],
 "metadata": {
  "kernelspec": {
   "display_name": "Python 3",
   "language": "python",
   "name": "python3"
  },
  "language_info": {
   "codemirror_mode": {
    "name": "ipython",
    "version": 2
   },
   "file_extension": ".py",
   "mimetype": "text/x-python",
   "name": "python",
   "nbconvert_exporter": "python",
   "pygments_lexer": "ipython2",
   "version": "2.7.6"
  }
 },
 "nbformat": 4,
 "nbformat_minor": 0
}
