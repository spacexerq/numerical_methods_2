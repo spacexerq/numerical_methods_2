{
 "cells": [
  {
   "cell_type": "markdown",
   "id": "9cb0344f",
   "metadata": {
    "pycharm": {
     "name": "#%% md\n"
    }
   },
   "source": [
    "# LU разложение, блочные и ленточные матрицы"
   ]
  },
  {
   "cell_type": "markdown",
   "id": "2366b489",
   "metadata": {
    "pycharm": {
     "name": "#%% md\n"
    }
   },
   "source": [
    "Существует множество типов матриц, удовлетворяющих некоторым дополнительным условиям, для которых многие матричные операции могут быть вычислены быстрее или точнее, чем для матриц произвольного вида. \n",
    "В данной лабораторной мы начнем писать библиотеку на Python, которая будет содержать классы, реализующие базовые алгоритмы для работы с основными типами матриц.\n",
    "Далее приводится исходный код класса `Matrix`, являющегося общим предком для всех матриц, и реализующего логику работы с матрицами общего вида.\n",
    "Нижеследующий класс `FullMatrix` реализует хранилище для заполненных матриц. \n",
    "Изучите эти реализации и выполните следующие задания:\n",
    "\n",
    "\n",
    "7. Как влияет симметричность матрицы на устойчивость LU разложения?\n",
    "8. Реализуйте класс `BandMatrix` для хранения ленточных матриц. Убедитесь в работоспособности методов `lu` и `solve`.\n",
    "9. Воспользуйтесь реализованными классами для решения уравнения Пуассона $\\Delta f=g$, использую операцию Лапласа из предыдущей лабораторной."
   ]
  },
  {
   "cell_type": "markdown",
   "id": "a3773d7c-a546-4844-9fae-e912a9371fe9",
   "metadata": {
    "pycharm": {
     "name": "#%% md\n"
    }
   },
   "source": [
    "### Done\n",
    "\n",
    "1. Напишите метод `lu` для класса `Matrix`, выполняющий LU разложение. \n",
    "2. Реализуйте метод `det`, вычисляющий определитель матрицы, опираясь на LU разложение.\n",
    "3. Реализация `FullMatrix` может содержать своими элементами другие матрицы, т.е. описывать блочную матрицу. Убедитесь, что ваша реализация LU разложения работает с блочными матрицами.3. Реализация `FullMatrix` может содержать своими элементами другие матрицы, т.е. описывать блочную матрицу. Убедитесь, что ваша реализация LU разложения работает с блочными матрицами.\n",
    "4. Реализуйте LUP разложение с перестановкой строк. Предъявите матрицу, на которой LUP разложение работает, а LU - нет.\n",
    "5. Реализуйте метод прогонки и реализуйте метод `Matrix.solve` для решения линейных систем уравнений.\n",
    "6. Реализуйте класс `SymmetricMatrix`, хранящий симметричные матрицы. Убедитесь, что метод `Matrix.lu` корректно работает с этим классом. Модифицируйте этот метод для класса `SymmetricMatrix` так, чтобы он использовал симметричность матрицы и работал в два раза быстрее."
   ]
  },
  {
   "cell_type": "code",
   "execution_count": 8,
   "id": "6ef01751",
   "metadata": {
    "pycharm": {
     "name": "#%%\n"
    }
   },
   "outputs": [],
   "source": [
    "import random\n",
    "\n",
    "import numpy as np\n",
    "from fractions import Fraction\n",
    "from numbers import Number"
   ]
  },
  {
   "cell_type": "code",
   "execution_count": 9,
   "id": "14ed5f5c",
   "metadata": {
    "pycharm": {
     "name": "#%%\n"
    }
   },
   "outputs": [],
   "source": [
    "class TextBlock:\n",
    "    def __init__(self, rows):\n",
    "        assert isinstance(rows, list)\n",
    "        self.rows = rows\n",
    "        self.height = len(self.rows)\n",
    "        self.width = max(map(len,self.rows))\n",
    "        \n",
    "    @classmethod\n",
    "    def from_str(_cls, data):\n",
    "        assert isinstance(data, str)\n",
    "        return TextBlock( data.split('\\n') )\n",
    "        \n",
    "    def format(self, width=None, height=None):\n",
    "        if width is None: width = self.width\n",
    "        if height is None: height = self.height\n",
    "        return [f\"{row:{width}}\" for row in self.rows]+[' '*width]*(height-self.height)\n",
    "    \n",
    "    @staticmethod\n",
    "    def merge(blocks):\n",
    "        return [\" \".join(row) for row in zip(*blocks)]\n",
    "\n",
    "class Matrix:\n",
    "    \"\"\"Общий предок для всех матриц.\"\"\"\n",
    "    @property\n",
    "    def shape(self):\n",
    "        raise NotImplementedError\n",
    "    \n",
    "    @property\n",
    "    def dtype(self):\n",
    "        raise NotImplementedError\n",
    "    \n",
    "    @property \n",
    "    def width(self):\n",
    "        return self.shape[1]\n",
    "    \n",
    "    @property \n",
    "    def height(self):\n",
    "        return self.shape[0]    \n",
    "        \n",
    "    def __repr__(self):\n",
    "        \"\"\"Возвращает текстовое представление для матрицы.\"\"\"\n",
    "        text = [[TextBlock.from_str(f\"{self[r,c]}\") for c in range(self.width)] for r in range(self.height)]\n",
    "        width_el = np.array(list(map(lambda row: list(map(lambda el: el.width, row)), text)))\n",
    "        height_el = np.array(list(map(lambda row: list(map(lambda el: el.height, row)), text)))\n",
    "        width_column = np.max(width_el, axis=0)\n",
    "        width_total = np.sum(width_column)\n",
    "        height_row = np.max(height_el, axis=1)\n",
    "        result = []\n",
    "        for r in range(self.height):\n",
    "            lines = TextBlock.merge(text[r][c].format(width=width_column[c], height=height_row[r]) for c in range(self.width))\n",
    "            for l in lines:\n",
    "                result.append(f\"| {l} |\")\n",
    "            if len(lines)>0 and len(lines[0])>0 and lines[0][0]=='|' and r<self.height-1:\n",
    "                result.append(f'| {\" \"*(width_total+self.width)}|')\n",
    "        return \"\\n\".join(result)\n",
    "    \n",
    "    def empty_like(self, width=None, height=None):\n",
    "        raise NotImplementedError\n",
    "        \n",
    "    def ident_like(self):\n",
    "        raise NotImplementedError\n",
    "    \n",
    "    def __getitem__(self, key):\n",
    "        raise NotImplementedError\n",
    "    \n",
    "    def __setitem__(self, key, value):\n",
    "        raise NotImplementedError\n",
    "        \n",
    "    def __add__(self, other):\n",
    "        if isinstance(other, Matrix):\n",
    "            assert self.width==other.width and self.height==other.height, f\"Shapes does not match: {self.shape} != {other.shape}\"\n",
    "            matrix = self.empty_like()\n",
    "            for r in range(self.height):\n",
    "                for c in range(self.width):\n",
    "                    matrix[r,c] = self[r,c] + other[r,c]\n",
    "            return matrix\n",
    "        return NotImplemented\n",
    "    \n",
    "    def __sub__(self, other):\n",
    "        if isinstance(other, Matrix):\n",
    "            assert self.width==other.width and self.height==other.height, f\"Shapes does not match: {self.shape} != {other.shape}\"\n",
    "            matrix = self.empty_like()\n",
    "            for r in range(self.height):\n",
    "                for c in range(self.width):\n",
    "                    matrix[r,c] = self[r,c] - other[r,c]\n",
    "            return matrix\n",
    "        return NotImplemented\n",
    "\n",
    "    def __mul__(self, other):\n",
    "        return self.__matmul__(other)\n",
    "    \n",
    "    def __matmul__(self, other):\n",
    "        #multiplication righthanded only (matrix*number)\n",
    "        if isinstance(other, Matrix):\n",
    "            assert self.width==other.height, f\"Shapes does not match: {self.shape} != {other.shape}\"\n",
    "            matrix = self.zero(self.height,other.width,self[0,0]-self[0,0])\n",
    "            for r in range(self.height):\n",
    "                for c in range(other.width):\n",
    "                    acc = None\n",
    "                    for k in range(self.width):\n",
    "                        add = self[r,k]*other[k,c]\n",
    "                        acc = add if acc is None else acc+add\n",
    "                    matrix[r,c] = acc\n",
    "            return matrix\n",
    "        elif isinstance(other, Number):\n",
    "            matrix = self.zero(self.height,self.width,self[0,0]-self[0,0])\n",
    "            for r in range(self.height):\n",
    "                for c in range(self.width):\n",
    "                    matrix[r,c]=self[r,c]*other\n",
    "            return matrix\n",
    "        return NotImplemented\n",
    "    \n",
    "    def __truediv__(self, other):\n",
    "        if isinstance(other, Matrix):\n",
    "            assert self.width==other.width and self.height==other.height, f\"Shapes does not match: {self.shape} != {other.shape}\"\n",
    "            divider = self.inverse()\n",
    "            matrix = self*divider\n",
    "            return matrix\n",
    "        return NotImplemented\n",
    "    \n",
    "    def inverse(self):\n",
    "        l, u = self.lu()\n",
    "        null = self[0,0]-self[0,0]\n",
    "        l_inv = l.empty_like()\n",
    "        u_inv = u.empty_like()\n",
    "        for i in range(self.height):\n",
    "            for j in range(self.width):\n",
    "                if i==j:\n",
    "                    u_inv[i,i] = u.invert_element(u[i,i])\n",
    "                    l_inv[i,j] = l.invert_element(l[i,j])\n",
    "                elif i>j:\n",
    "                    u_inv[i,j] = null\n",
    "                    temp = null\n",
    "                    for k in range(i):\n",
    "                        temp += l_inv[k,j]*l[i,k]\n",
    "                    l_inv[i,j] = -l.invert_element(l[i,i])*temp\n",
    "                else:\n",
    "                    l_inv[i,j] = null\n",
    "                    temp = null\n",
    "                    for k in range(j):\n",
    "                        temp += u_inv[i,k]*u[k,j]\n",
    "                    u_inv[i,j] = -u.invert_element(u[j,j])*temp\n",
    "        return u_inv*l_inv\n",
    "\n",
    "    def invert_element(self, element):\n",
    "        if isinstance(element, Number):\n",
    "            return 1/element\n",
    "        if isinstance(element, Fraction):\n",
    "            return 1/element\n",
    "        if isinstance(element, Matrix):\n",
    "            return element.inverse()\n",
    "        raise TypeError\n",
    "\n",
    "    def lu(self):\n",
    "        raise NotImplementedError\n",
    "\n",
    "    def det(self):\n",
    "        assert self.width==self.height, f\"Matrix is not square: {self.height} != {self.width}\"\n",
    "        l,u = self.lu()\n",
    "        det = 1\n",
    "        for i in range(u.height):\n",
    "            det *= u[i,i]\n",
    "        return det\n",
    "    \n",
    "    def lup(self):\n",
    "        temp = self\n",
    "        p = self.zero(self.width,self.height,self[0,0]-self[0,0])\n",
    "        for i in range(self.height):\n",
    "            if self[i,i]!=0:\n",
    "                p[i,i] = self[0,0]/self[0,0]\n",
    "        for i in range(self.height):\n",
    "            ref_val = 0\n",
    "            ref_num = -1\n",
    "            for j in range(i,self.width):\n",
    "                if np.abs(temp[j,i])>=ref_val:\n",
    "                    ref_val = np.abs(temp[j,i])\n",
    "                    ref_num = j\n",
    "            if ref_val!=0:\n",
    "                temp.swap_rows(ref_num,i)\n",
    "                p.swap_rows(ref_num,i)\n",
    "                for j in range(i+1,self.height):\n",
    "                    temp[j,i]/=temp[i,i]\n",
    "                    for k in range(i+1,self.height):\n",
    "                        temp[j,k] -= temp[j,i]*temp[i,k]\n",
    "        u = self.zero(self.width,self.height,self[0,0]-self[0,0])\n",
    "        l = self.zero(self.width,self.height,self[0,0]-self[0,0])\n",
    "        for i in range(self.height):\n",
    "            for j in range(self.height):\n",
    "                if i==j:\n",
    "                    u[i,j] = temp[i,j]\n",
    "                    l[i,j] = 1\n",
    "                elif i<j:\n",
    "                    u[i,j] = temp[i,j]\n",
    "                    l[i,j] = 0\n",
    "                else:\n",
    "                    l[i,j] = temp[i,j]\n",
    "                    u[i,j] = 0\n",
    "        return temp,l,u,p\n",
    "        \n",
    "    def swap_rows(self, num1, num2):\n",
    "        matrix = self\n",
    "        temp = self.empty_like()\n",
    "        for i in range(self.height):\n",
    "            temp[num1, i] = self[num1, i]\n",
    "            matrix[num1, i] = self[num2, i]\n",
    "            matrix[num2, i] = temp[num1, i]\n",
    "        return matrix \n",
    "    \n",
    "    def swap_cols(self, num1, num2):\n",
    "        matrix = self\n",
    "        temp = self.empty_like()\n",
    "        for i in range(self.width):\n",
    "            temp[i, num1] = self[i, num1]\n",
    "            matrix[i, num1] = self[i, num2]\n",
    "            matrix[i, num2] = temp[i, num1]\n",
    "        return matrix \n",
    "    \n",
    "    def transpone(self):\n",
    "        raise NotImplementedError\n",
    "\n",
    "    def zero(self, width, height, param, low_bandw, upp_bandw):\n",
    "        raise NotImplementedError\n",
    "\n",
    "    def solve(self, vector):\n",
    "        if isinstance(vector, Matrix):\n",
    "            assert vector.width==1 and self.width==vector.height and self.height==self.width, f\"Vector or matrix shape is wrong: {self.shape}, {vector.shape}\"\n",
    "            garbage, l, u, p = self.lup()\n",
    "            y_vec = vector.empty_like()\n",
    "            pb = p*vector\n",
    "            result = vector.empty_like()\n",
    "            temp = 0\n",
    "            flag = 0\n",
    "            #solving Ly=Pb\n",
    "            for i in range(self.height):\n",
    "                y_vec[i,0] = (pb[i,0] - temp)/l[i,i]\n",
    "                temp = 0\n",
    "                flag+=1\n",
    "                for j in range(i+1):\n",
    "                    if i<self.height-1:\n",
    "                        temp += l[i+1,j]*y_vec[j,0]\n",
    "            #solving Ux=y\n",
    "            temp=0\n",
    "            for i in range(self.height-1,-1,-1):\n",
    "                result[i,0] = (y_vec[i,0] - temp)/u[i,i]\n",
    "                temp = 0\n",
    "                for j in range(self.height-1,i-1,-1):\n",
    "                    temp += u[i-1,j]*result[j,0]\n",
    "            return result\n",
    "        return NotImplemented\n",
    "\n",
    "class FullMatrix(Matrix):\n",
    "    \"\"\"\n",
    "    Заполненная матрица с элементами произвольного типа.\n",
    "    \"\"\"\n",
    "    def __init__(self, data):\n",
    "        \"\"\"\n",
    "        Создает объект, хранящий матрицу в виде np.ndarray `data`.\n",
    "        \"\"\"\n",
    "        assert isinstance(data, np.ndarray)\n",
    "        self.data = data\n",
    "        \n",
    "    def transpone(self):\n",
    "        matrix = self.zero(self.width,self.height,self[0,0]-self[0,0])\n",
    "        for i in range(self.width):\n",
    "            for j in range(self.height):\n",
    "                matrix[i,j]  = self[j,i]\n",
    "        return matrix\n",
    "\n",
    "    def empty_like(self, width=None, height=None):\n",
    "        dtype = self.data.dtype\n",
    "        if width is None:\n",
    "            width = self.data.shape[1]\n",
    "        if height is None:\n",
    "            height = self.data.shape[0]       \n",
    "        data = np.empty((height,width), dtype=dtype)\n",
    "        return FullMatrix(data)\n",
    "\n",
    "    def ident_like(self, width=None, height=None):\n",
    "        dtype = self.data.dtype\n",
    "        if width is None:\n",
    "            width = self.data.shape[1]\n",
    "        if height is None:\n",
    "            height = self.data.shape[0]       \n",
    "        data = np.empty((height,width), dtype=dtype)\n",
    "        for i in range(self.height):\n",
    "            data[i,i] = self[i,i]*self.invert_element(self[i,i])\n",
    "        return FullMatrix(data)\n",
    "\n",
    "    def lu(self):\n",
    "        assert self.width==self.height, f\"Matrix is not square: {self.height} != {self.width}\"\n",
    "        u = self.zero(self.width,self.height,self[0,0]-self[0,0])\n",
    "        l = self.zero(self.width,self.height,self[0,0]-self[0,0])\n",
    "        for i in range(self.height):\n",
    "            l[i,i] = self[0,0]/self[0,0]\n",
    "        for i in range(self.height):\n",
    "            for j in range(self.height):\n",
    "                if i<=j:\n",
    "                    temp = u[0,0]-u[0,0]\n",
    "                    for k in range(i+1):\n",
    "                        temp = temp+l[i,k]*u[k,j]\n",
    "                    u[i,j] = self[i,j]-temp\n",
    "                else:\n",
    "                    temp = u[0,0]-u[0,0]\n",
    "                    for k in range(j+1):\n",
    "                        temp = temp + l[i,k]*u[k,j]\n",
    "                    l[i,j] = (self[i,j]-temp)*u.invert_element(u[j,j])\n",
    "        return l,u\n",
    "        \n",
    "    @classmethod\n",
    "    def zero(_cls, height, width, default=0, low_bandw=0, upp_bandw=0):\n",
    "        \"\"\"\n",
    "        Создает матрицу размера `width` x `height` со значениями по умолчанию `default`.\n",
    "        \"\"\"\n",
    "        data = np.empty((height, width), dtype=type(default))\n",
    "        data[:] = default\n",
    "        return FullMatrix(data)\n",
    "                    \n",
    "    @property\n",
    "    def shape(self):\n",
    "        return self.data.shape\n",
    "    \n",
    "    @property\n",
    "    def dtype(self):\n",
    "        return self.data.dtype\n",
    "        \n",
    "    def __getitem__(self, key):\n",
    "        row, column = key\n",
    "        return self.data[row, column]\n",
    "    \n",
    "    def __setitem__(self, key, value):\n",
    "        row, column = key\n",
    "        self.data[row, column] = value\n",
    "\n",
    "class SymmetricMatrix(Matrix):\n",
    "    \"\"\"\n",
    "    Симметричная матрица\n",
    "    \"\"\"\n",
    "    def __init__(self, data):\n",
    "        \"\"\"\n",
    "        Создает объект, хранящий матрицу в виде np.ndarray `data`.\n",
    "        \"\"\"\n",
    "        assert isinstance(data, np.ndarray)\n",
    "        self.data = data\n",
    "\n",
    "    def empty_like(self, width=None, height=None):\n",
    "        dtype = self.data.dtype\n",
    "        if width is None:\n",
    "            width = self.data.shape[1]\n",
    "        if height is None:\n",
    "            height = self.data.shape[0]\n",
    "        data = np.empty((height,width), dtype=dtype)\n",
    "        return SymmetricMatrix(data)\n",
    "\n",
    "    def ident_like(self, width=None, height=None):\n",
    "        data = self.empty_like()\n",
    "        for i in range(self.height):\n",
    "            data[i,i] = self[i,i]*self.invert_element(self[i,i])\n",
    "            for j in range(self.height):\n",
    "                if i!=j:\n",
    "                    data[i,j] = self[0,0]-self[0,0]\n",
    "        return data\n",
    "\n",
    "    def lu(self):\n",
    "        #cholecky decomposition used for this (l i not more uni-left-triangle)\n",
    "        matrix = FullMatrix.zero(self.width,self.height,self[0,0]-self[0,0])\n",
    "        for i in range(self.height):\n",
    "            for j in range(i+1):\n",
    "                temp = 0\n",
    "                for k in range(j):\n",
    "                    temp += matrix[i,k]*matrix[j,k]\n",
    "                if i==j:\n",
    "                    matrix[i,j] = np.sqrt(self[i,i]-temp)\n",
    "                else:\n",
    "                    matrix[i,j] = (self[i,j]-temp)*matrix.invert_element(matrix[j,j])\n",
    "        l,u = FullMatrix.zero(self.width,self.height,self[0,0]-self[0,0]),FullMatrix.zero(self.width,self.height,self[0,0]-self[0,0])\n",
    "        for i in range(self.height):\n",
    "            for j in range(self.width):\n",
    "                if j>i:\n",
    "                    l[i,j] = 0\n",
    "                    u[i,j] = matrix[i,j]\n",
    "                elif j<i:\n",
    "                    u[i,j] = 0\n",
    "                    l[i,j] = matrix[i,j]\n",
    "                else:\n",
    "                    u[i,j] = matrix[i,j]\n",
    "                    l[i,j] = matrix[i,j]\n",
    "        return l,u\n",
    "\n",
    "    @classmethod\n",
    "    def zero(_cls, width, height, default=0, low_bandw=0, upp_bandw=0):\n",
    "        \"\"\"\n",
    "        Создает матрицу размера `height` x `height` со значениями по умолчанию `default`.\n",
    "        \"\"\"\n",
    "        data = np.empty((height, height), dtype=type(default))\n",
    "        data[:] = default\n",
    "        return SymmetricMatrix(data)\n",
    "\n",
    "    @property\n",
    "    def shape(self):\n",
    "        return self.data.shape\n",
    "\n",
    "    @property\n",
    "    def dtype(self):\n",
    "        return self.data.dtype\n",
    "\n",
    "    def __getitem__(self, key):\n",
    "        row, column = key\n",
    "        return self.data[row, column]\n",
    "\n",
    "    def __setitem__(self, key, value):\n",
    "        row, column = key\n",
    "        self.data[row, column] = value\n",
    "        self.data[column, row] = value\n",
    "\n",
    "class BandMatrix(Matrix):\n",
    "    \"\"\"\n",
    "    Заполненная матрица с элементами произвольного типа.\n",
    "    \"\"\"\n",
    "    def __init__(self, data, low_bandw, upp_bandw):\n",
    "        \"\"\"\n",
    "        Создает объект, хранящий матрицу в виде np.ndarray `data`.\n",
    "        \"\"\"\n",
    "        assert isinstance(data, np.ndarray)\n",
    "        self.data = data\n",
    "        self.lw_bw = low_bandw\n",
    "        self.up_bw = upp_bandw\n",
    "\n",
    "    def transpone(self):\n",
    "        matrix = self.zero(self.width,self.height,self[0,0]-self[0,0])\n",
    "        for i in range(self.width):\n",
    "            for j in range(self.height):\n",
    "                matrix[i,j]  = self[j,i]\n",
    "        return matrix\n",
    "\n",
    "    @classmethod\n",
    "    def zero(_cls, height, width, default=0,low_bandw=0,upp_bandw=0):\n",
    "        \"\"\"\n",
    "        Создает матрицу размера `width` x `height` со значениями по умолчанию `default`.\n",
    "        \"\"\"\n",
    "        data = np.empty((height, low_bandw+upp_bandw+1), dtype=type(default))\n",
    "        data[:] = default\n",
    "        return BandMatrix(data,low_bandw,upp_bandw)\n",
    "\n",
    "    @property\n",
    "    def shape(self):\n",
    "        real_shape = (self.data.shape[0],self.data.shape[0])\n",
    "        return real_shape\n",
    "\n",
    "    @property\n",
    "    def dtype(self):\n",
    "        return self.data.dtype\n",
    "\n",
    "    @property\n",
    "    def low_bandw(self):\n",
    "        return self.lw_bw\n",
    "\n",
    "    @property\n",
    "    def upp_bandw(self):\n",
    "        return self.up_bw\n",
    "\n",
    "    def __getitem__(self, key):\n",
    "        row, column = key\n",
    "        if row < column-self.lw_bw or row>column+self.up_bw:\n",
    "            return 0\n",
    "        else:\n",
    "            return self.data[row, self.upp_bandw+row-column-1]\n",
    "\n",
    "    def __setitem__(self, key, value):\n",
    "        row, column = key\n",
    "        self.data[row, self.upp_bandw+row-column-1] = value\n",
    "\n",
    "    def lu(self):\n",
    "        assert self.width==self.height, f\"Matrix is not square: {self.height} != {self.width}\"\n",
    "        u = self.zero(self.width,self.height,self[0,0]-self[0,0])\n",
    "        l = self.zero(self.width,self.height,self[0,0]-self[0,0])\n",
    "        for i in range(self.height):\n",
    "            if self[i,i]!=0:\n",
    "                l[i,i] = self[0,0]/self[0,0]\n",
    "        for i in range(self.height):\n",
    "            for j in range(self.height):\n",
    "                if i<=j:\n",
    "                    temp = u.zero(u.width,u.height,u[0,0]-u[0,0])\n",
    "                    for k in range(i+1):\n",
    "                        temp[i,j] = temp[i,j]+l[i,k]*u[k,j]\n",
    "                    u[i,j] = self[i,j]-temp[i,j]\n",
    "                elif i>j:\n",
    "                    temp = u.zero(u.width,u.height,u[0,0]-u[0,0])\n",
    "                    for k in range(j+1):\n",
    "                        temp[i,j] = temp[i,j] + l[i,k]*u[k,j]\n",
    "                    l[i,j] = (self[i,j]-temp[i,j])*u.invert_element(u[j,j])\n",
    "        return l,u"
   ]
  },
  {
   "cell_type": "markdown",
   "source": [
    "### Testing part"
   ],
   "metadata": {
    "collapsed": false,
    "pycharm": {
     "name": "#%% md\n"
    }
   }
  },
  {
   "cell_type": "code",
   "execution_count": 10,
   "outputs": [],
   "source": [
    "error = 1e-10\n",
    "\n",
    "def equal(a,b):\n",
    "    if isinstance(a, Number) and isinstance(b, Number):\n",
    "        if abs(a-b) < error:\n",
    "            return True\n",
    "        else:\n",
    "            return False\n",
    "    if isinstance(a, Fraction) and isinstance(b, Fraction):\n",
    "        if abs(a-b) < error:\n",
    "            return True\n",
    "        else:\n",
    "            return False\n",
    "    if isinstance(a, Matrix) and isinstance(b,Matrix):\n",
    "        if a.shape!=b.shape:\n",
    "            return False\n",
    "        for i in range(a.height):\n",
    "            for j in range(a.width):\n",
    "                if not equal(a[i,j],b[i,j]):\n",
    "                    return True\n",
    "        return True\n",
    "    raise TypeError\n",
    "\n",
    "def test_lu():\n",
    "    num_sample = np.logspace(1,6,2,dtype = int)\n",
    "    for n in num_sample:\n",
    "        m_full = FullMatrix.zero(n, n, float)\n",
    "        #m_symm = SymmetricMatrix.zero(n, n, float)\n",
    "        for i in range(n):\n",
    "            for j in range(n):\n",
    "                m_full[i,j] = float(random.randrange(0,100))\n",
    "                #m_symm[i,j] = float(random.randrange(0,10000))\n",
    "        if not equal(m_full.lu()[0]*m_full.lu()[1],m_full):\n",
    "            print(\"LU decomposition is not complete for full matrix\")\n",
    "        #if not equal(m_symm.lu()[0]*m_symm.lu()[1],m_symm):\n",
    "            #print(\"LU decomposition is not complete for symmetric matrix\")\n"
   ],
   "metadata": {
    "collapsed": false,
    "pycharm": {
     "name": "#%%\n"
    }
   }
  },
  {
   "cell_type": "code",
   "execution_count": 11,
   "outputs": [
    {
     "ename": "MemoryError",
     "evalue": "Unable to allocate 7.28 TiB for an array with shape (1000000, 1000000) and data type object",
     "output_type": "error",
     "traceback": [
      "\u001B[1;31m---------------------------------------------------------------------------\u001B[0m",
      "\u001B[1;31mMemoryError\u001B[0m                               Traceback (most recent call last)",
      "Cell \u001B[1;32mIn [11], line 1\u001B[0m\n\u001B[1;32m----> 1\u001B[0m \u001B[43mtest_lu\u001B[49m\u001B[43m(\u001B[49m\u001B[43m)\u001B[49m\n",
      "Cell \u001B[1;32mIn [10], line 27\u001B[0m, in \u001B[0;36mtest_lu\u001B[1;34m()\u001B[0m\n\u001B[0;32m     25\u001B[0m num_sample \u001B[38;5;241m=\u001B[39m np\u001B[38;5;241m.\u001B[39mlogspace(\u001B[38;5;241m1\u001B[39m,\u001B[38;5;241m6\u001B[39m,\u001B[38;5;241m2\u001B[39m,dtype \u001B[38;5;241m=\u001B[39m \u001B[38;5;28mint\u001B[39m)\n\u001B[0;32m     26\u001B[0m \u001B[38;5;28;01mfor\u001B[39;00m n \u001B[38;5;129;01min\u001B[39;00m num_sample:\n\u001B[1;32m---> 27\u001B[0m     m_full \u001B[38;5;241m=\u001B[39m \u001B[43mFullMatrix\u001B[49m\u001B[38;5;241;43m.\u001B[39;49m\u001B[43mzero\u001B[49m\u001B[43m(\u001B[49m\u001B[43mn\u001B[49m\u001B[43m,\u001B[49m\u001B[43m \u001B[49m\u001B[43mn\u001B[49m\u001B[43m,\u001B[49m\u001B[43m \u001B[49m\u001B[38;5;28;43mfloat\u001B[39;49m\u001B[43m)\u001B[49m\n\u001B[0;32m     28\u001B[0m     \u001B[38;5;66;03m#m_symm = SymmetricMatrix.zero(n, n, float)\u001B[39;00m\n\u001B[0;32m     29\u001B[0m     \u001B[38;5;28;01mfor\u001B[39;00m i \u001B[38;5;129;01min\u001B[39;00m \u001B[38;5;28mrange\u001B[39m(n):\n",
      "Cell \u001B[1;32mIn [9], line 314\u001B[0m, in \u001B[0;36mFullMatrix.zero\u001B[1;34m(_cls, height, width, default, low_bandw, upp_bandw)\u001B[0m\n\u001B[0;32m    309\u001B[0m \u001B[38;5;129m@classmethod\u001B[39m\n\u001B[0;32m    310\u001B[0m \u001B[38;5;28;01mdef\u001B[39;00m \u001B[38;5;21mzero\u001B[39m(_cls, height, width, default\u001B[38;5;241m=\u001B[39m\u001B[38;5;241m0\u001B[39m, low_bandw\u001B[38;5;241m=\u001B[39m\u001B[38;5;241m0\u001B[39m, upp_bandw\u001B[38;5;241m=\u001B[39m\u001B[38;5;241m0\u001B[39m):\n\u001B[0;32m    311\u001B[0m     \u001B[38;5;124;03m\"\"\"\u001B[39;00m\n\u001B[0;32m    312\u001B[0m \u001B[38;5;124;03m    Создает матрицу размера `width` x `height` со значениями по умолчанию `default`.\u001B[39;00m\n\u001B[0;32m    313\u001B[0m \u001B[38;5;124;03m    \"\"\"\u001B[39;00m\n\u001B[1;32m--> 314\u001B[0m     data \u001B[38;5;241m=\u001B[39m \u001B[43mnp\u001B[49m\u001B[38;5;241;43m.\u001B[39;49m\u001B[43mempty\u001B[49m\u001B[43m(\u001B[49m\u001B[43m(\u001B[49m\u001B[43mheight\u001B[49m\u001B[43m,\u001B[49m\u001B[43m \u001B[49m\u001B[43mwidth\u001B[49m\u001B[43m)\u001B[49m\u001B[43m,\u001B[49m\u001B[43m \u001B[49m\u001B[43mdtype\u001B[49m\u001B[38;5;241;43m=\u001B[39;49m\u001B[38;5;28;43mtype\u001B[39;49m\u001B[43m(\u001B[49m\u001B[43mdefault\u001B[49m\u001B[43m)\u001B[49m\u001B[43m)\u001B[49m\n\u001B[0;32m    315\u001B[0m     data[:] \u001B[38;5;241m=\u001B[39m default\n\u001B[0;32m    316\u001B[0m     \u001B[38;5;28;01mreturn\u001B[39;00m FullMatrix(data)\n",
      "\u001B[1;31mMemoryError\u001B[0m: Unable to allocate 7.28 TiB for an array with shape (1000000, 1000000) and data type object"
     ]
    }
   ],
   "source": [
    "test_lu()"
   ],
   "metadata": {
    "collapsed": false,
    "pycharm": {
     "name": "#%%\n"
    }
   }
  },
  {
   "cell_type": "markdown",
   "source": [
    "## Else"
   ],
   "metadata": {
    "collapsed": false,
    "pycharm": {
     "name": "#%% md\n"
    }
   }
  },
  {
   "cell_type": "code",
   "execution_count": 56,
   "outputs": [
    {
     "name": "stdout",
     "output_type": "stream",
     "text": [
      "[[10]\n",
      " [ 1]\n",
      " [ 2]\n",
      " [ 3]\n",
      " [15]]\n",
      "\n",
      "\n",
      "| 10 0 0 0 0  |\n",
      "| 0  1 0 0 0  |\n",
      "| 0  0 2 0 0  |\n",
      "| 0  0 0 3 0  |\n",
      "| 0  0 0 0 15 |\n"
     ]
    }
   ],
   "source": [
    "m = BandMatrix.zero(5,5,0,0,0)\n",
    "m[0,0]=10\n",
    "m[1,1]=1\n",
    "m[2,2]=2\n",
    "m[3,3]=3\n",
    "m[4,4]=15\n",
    "print(m.data)\n",
    "print(\"\\n\")\n",
    "print(m)\n"
   ],
   "metadata": {
    "collapsed": false,
    "pycharm": {
     "name": "#%%\n"
    }
   }
  },
  {
   "cell_type": "code",
   "execution_count": 57,
   "outputs": [
    {
     "name": "stdout",
     "output_type": "stream",
     "text": [
      "[[ 0 10  0  0]\n",
      " [ 0  1  0  0]\n",
      " [ 0  2  0  0]\n",
      " [ 7  3  0  0]\n",
      " [ 0 15  0  0]]\n",
      "\n",
      "\n",
      "| 10 0 0 0 0  |\n",
      "| 0  1 0 0 0  |\n",
      "| 0  0 2 0 0  |\n",
      "| 0  0 0 3 7  |\n",
      "| 0  0 0 0 15 |\n"
     ]
    },
    {
     "ename": "IndexError",
     "evalue": "index -2 is out of bounds for axis 1 with size 1",
     "output_type": "error",
     "traceback": [
      "\u001B[1;31m---------------------------------------------------------------------------\u001B[0m",
      "\u001B[1;31mIndexError\u001B[0m                                Traceback (most recent call last)",
      "Cell \u001B[1;32mIn [57], line 11\u001B[0m\n\u001B[0;32m      9\u001B[0m \u001B[38;5;28mprint\u001B[39m(\u001B[38;5;124m\"\u001B[39m\u001B[38;5;130;01m\\n\u001B[39;00m\u001B[38;5;124m\"\u001B[39m)\n\u001B[0;32m     10\u001B[0m \u001B[38;5;28mprint\u001B[39m(m)\n\u001B[1;32m---> 11\u001B[0m \u001B[38;5;28mprint\u001B[39m(\u001B[43mm\u001B[49m\u001B[38;5;241;43m.\u001B[39;49m\u001B[43mlu\u001B[49m\u001B[43m(\u001B[49m\u001B[43m)\u001B[49m)\n",
      "Cell \u001B[1;32mIn [55], line 485\u001B[0m, in \u001B[0;36mBandMatrix.lu\u001B[1;34m(self)\u001B[0m\n\u001B[0;32m    483\u001B[0m     temp \u001B[38;5;241m=\u001B[39m u\u001B[38;5;241m.\u001B[39mzero(u\u001B[38;5;241m.\u001B[39mwidth,u\u001B[38;5;241m.\u001B[39mheight,u[\u001B[38;5;241m0\u001B[39m,\u001B[38;5;241m0\u001B[39m]\u001B[38;5;241m-\u001B[39mu[\u001B[38;5;241m0\u001B[39m,\u001B[38;5;241m0\u001B[39m])\n\u001B[0;32m    484\u001B[0m     \u001B[38;5;28;01mfor\u001B[39;00m k \u001B[38;5;129;01min\u001B[39;00m \u001B[38;5;28mrange\u001B[39m(i\u001B[38;5;241m+\u001B[39m\u001B[38;5;241m1\u001B[39m):\n\u001B[1;32m--> 485\u001B[0m         \u001B[43mtemp\u001B[49m\u001B[43m[\u001B[49m\u001B[43mi\u001B[49m\u001B[43m,\u001B[49m\u001B[43mj\u001B[49m\u001B[43m]\u001B[49m \u001B[38;5;241m=\u001B[39m temp[i,j]\u001B[38;5;241m+\u001B[39ml[i,k]\u001B[38;5;241m*\u001B[39mu[k,j]\n\u001B[0;32m    486\u001B[0m     u[i,j] \u001B[38;5;241m=\u001B[39m \u001B[38;5;28mself\u001B[39m[i,j]\u001B[38;5;241m-\u001B[39mtemp[i,j]\n\u001B[0;32m    487\u001B[0m \u001B[38;5;28;01melif\u001B[39;00m i\u001B[38;5;241m>\u001B[39mj:\n",
      "Cell \u001B[1;32mIn [55], line 471\u001B[0m, in \u001B[0;36mBandMatrix.__setitem__\u001B[1;34m(self, key, value)\u001B[0m\n\u001B[0;32m    469\u001B[0m \u001B[38;5;28;01mdef\u001B[39;00m \u001B[38;5;21m__setitem__\u001B[39m(\u001B[38;5;28mself\u001B[39m, key, value):\n\u001B[0;32m    470\u001B[0m     row, column \u001B[38;5;241m=\u001B[39m key\n\u001B[1;32m--> 471\u001B[0m     \u001B[38;5;28;43mself\u001B[39;49m\u001B[38;5;241;43m.\u001B[39;49m\u001B[43mdata\u001B[49m\u001B[43m[\u001B[49m\u001B[43mrow\u001B[49m\u001B[43m,\u001B[49m\u001B[43m \u001B[49m\u001B[38;5;28;43mself\u001B[39;49m\u001B[38;5;241;43m.\u001B[39;49m\u001B[43mupp_bandw\u001B[49m\u001B[38;5;241;43m+\u001B[39;49m\u001B[43mrow\u001B[49m\u001B[38;5;241;43m-\u001B[39;49m\u001B[43mcolumn\u001B[49m\u001B[38;5;241;43m-\u001B[39;49m\u001B[38;5;241;43m1\u001B[39;49m\u001B[43m]\u001B[49m \u001B[38;5;241m=\u001B[39m value\n",
      "\u001B[1;31mIndexError\u001B[0m: index -2 is out of bounds for axis 1 with size 1"
     ]
    }
   ],
   "source": [
    "m = BandMatrix.zero(5,5,0,1,2)\n",
    "m[0,0]=10\n",
    "m[1,1]=1\n",
    "m[2,2]=2\n",
    "m[3,3]=3\n",
    "m[4,4]=15\n",
    "m[3,4] = 7\n",
    "print(m.data)\n",
    "print(\"\\n\")\n",
    "print(m)\n",
    "print(m.lu())"
   ],
   "metadata": {
    "collapsed": false,
    "pycharm": {
     "name": "#%%\n"
    }
   }
  },
  {
   "cell_type": "code",
   "execution_count": 8,
   "id": "0d98168a",
   "metadata": {
    "pycharm": {
     "name": "#%%\n"
    }
   },
   "outputs": [
    {
     "name": "stdout",
     "output_type": "stream",
     "text": [
      "| 0 0 0 0 0 |\n",
      "| 0 0 0 0 0 |\n",
      "| 0 0 0 0 0 |\n",
      "| 0 0 0 0 0 |\n",
      "| 0 0 0 0 0 |\n",
      "| 0 0 0 0 0 |\n",
      "| 0 0 0 |\n",
      "| 0 0 0 |\n",
      "| 0 0 0 |\n",
      "| 0 0 0 |\n",
      "| 0 0 0 |\n",
      "(3, 5)\n",
      "int32\n",
      "| 0 0 0 0 0 |\n",
      "| 0 0 0 0 0 |\n",
      "| 0 0 0 0 0 |\n"
     ]
    }
   ],
   "source": [
    "m = FullMatrix.zero(3,5,0)\n",
    "print(m)\n",
    "print(m*5)\n",
    "print(m.transpone())\n",
    "print(m.shape)\n",
    "print(m.dtype)\n",
    "print(m.swap_rows(1,2))"
   ]
  },
  {
   "cell_type": "markdown",
   "id": "42edd3a7-841c-4aad-91e3-1be54f10a8f2",
   "metadata": {
    "pycharm": {
     "name": "#%% md\n"
    }
   },
   "source": [
    "#### Невырожденные матрицы"
   ]
  },
  {
   "cell_type": "code",
   "execution_count": 4,
   "id": "a80ff585",
   "metadata": {
    "pycharm": {
     "name": "#%%\n"
    }
   },
   "outputs": [
    {
     "name": "stdout",
     "output_type": "stream",
     "text": [
      "| 1 5/2  19/3 |\n",
      "| 3 4    23/3 |\n",
      "| 7 15/2 11   |\n",
      "(3, 3)\n",
      "object\n",
      "m+m | 2  5  38/3 |\n",
      "| 6  8  46/3 |\n",
      "| 14 15 22   |\n",
      "m*d | 0 5/2  38/3 |\n",
      "| 0 4    46/3 |\n",
      "| 0 15/2 22   |\n",
      "\n",
      "l=\n",
      "| 1 0    0 |\n",
      "| 3 1    0 |\n",
      "| 7 20/7 1 |\n",
      "u=\n",
      "| 1 5/2  19/3   |\n",
      "| 0 -7/2 -34/3  |\n",
      "| 0 0    -20/21 |\n",
      "a=LU=\n",
      "| 1 5/2  19/3 |\n",
      "| 3 4    23/3 |\n",
      "| 7 15/2 11   |\n",
      "10/3\n",
      "| -81/20 6   -37/20 |\n",
      "| 31/5   -10 17/5   |\n",
      "| -33/20 3   -21/20 |\n"
     ]
    }
   ],
   "source": [
    "m = FullMatrix.zero(3,3,Fraction(0,1))\n",
    "for i in range(m.height):\n",
    "    for j in range(m.width):\n",
    "        m[i,j] = Fraction(i+1,j+1)+i*i+j*(j+1)\n",
    "d = FullMatrix.zero(3,3,Fraction(0,1))\n",
    "for i in range(min(d.height,d.width)):\n",
    "        d[i,i] = Fraction(i,1)        \n",
    "print(m)\n",
    "print(m.shape)\n",
    "print(m.dtype)\n",
    "print(f\"m+m\", m+m)\n",
    "print(f\"m*d\", m*d)\n",
    "print()\n",
    "print(\"l=\")\n",
    "print(m.lu()[0])\n",
    "print(\"u=\")\n",
    "print(m.lu()[1])\n",
    "print(\"a=LU=\")\n",
    "print(m.lu()[0]*m.lu()[1])\n",
    "print(m.det())\n",
    "print(m.invert_element(m))"
   ]
  },
  {
   "cell_type": "markdown",
   "source": [
    "### Блочные матрицы"
   ],
   "metadata": {
    "collapsed": false,
    "pycharm": {
     "name": "#%% md\n"
    }
   }
  },
  {
   "cell_type": "code",
   "execution_count": 5,
   "id": "01ad78b6-326c-4f10-9ecb-3611d64ffee3",
   "metadata": {
    "pycharm": {
     "name": "#%%\n"
    }
   },
   "outputs": [
    {
     "name": "stdout",
     "output_type": "stream",
     "text": [
      "| | 317/6 60  571/6  |   | 323/6 125/2 203/2  | | 899    6515/6 16573/9 | |\n",
      "| | 206/3 81  134    |   | 215/3 85    425/3  | | 3749/3 4502/3 22769/9 | |\n",
      "| | 213/2 130 1337/6 |   | 227/2 275/2 1403/6 | | 6169/3 4915/2 12367/3 | |\n",
      "|                                                                         |\n",
      "| | 311/6 115/2 533/6  | | 3  15/2 19 |         | 1 5/2  19/3 |           |\n",
      "| | 197/3 77    379/3  | | 9  12   23 |         | 3 4    23/3 |           |\n",
      "| | 199/2 245/2 1271/6 | | 21 45/2 33 |         | 7 15/2 11   |           |\n",
      "|                                                                         |\n",
      "| | 1 5/2  19/3 |        | 2  5  38/3 |         | 3  15/2 19 |            |\n",
      "| | 3 4    23/3 |        | 6  8  46/3 |         | 9  12   23 |            |\n",
      "| | 7 15/2 11   |        | 14 15 22   |         | 21 45/2 33 |            |\n",
      "| | 1 0 0 |             | 0 0 0 |                               | 0 0 0 | |\n",
      "| | 0 1 0 |             | 0 0 0 |                               | 0 0 0 | |\n",
      "| | 0 0 1 |             | 0 0 0 |                               | 0 0 0 | |\n",
      "|                                                                         |\n",
      "| | 101/20 -6 37/20 |   | 1 0 0 |                               | 0 0 0 | |\n",
      "| | -31/5  11 -17/5 |   | 0 1 0 |                               | 0 0 0 | |\n",
      "| | 33/20  -3 41/20 |   | 0 0 1 |                               | 0 0 0 | |\n",
      "|                                                                         |\n",
      "| | -81/20 6   -37/20 | | -1921/9623  11725/19246  -2994/9623 | | 1 0 0 | |\n",
      "| | 31/5   -10 17/5   | | 17965/28869 -25949/28869 6835/28869 | | 0 1 0 | |\n",
      "| | -33/20 3   -21/20 | | -2896/9623  3775/19246   -451/9623  | | 0 0 1 | |\n",
      "\n",
      " | | 317/6 60  571/6  | | 323/6 125/2 203/2  |    | 899    6515/6 16573/9 |                         |\n",
      "| | 206/3 81  134    | | 215/3 85    425/3  |    | 3749/3 4502/3 22769/9 |                         |\n",
      "| | 213/2 130 1337/6 | | 227/2 275/2 1403/6 |    | 6169/3 4915/2 12367/3 |                         |\n",
      "|                                                                                                  |\n",
      "| | 0 0 0 |            | -293/6 -105/2 -457/6  | | -5071/6  -3070/3 -31319/18 |                    |\n",
      "| | 0 0 0 |            | -179/3 -68    -111    | | -1178    -4247/3 -21494/9  |                    |\n",
      "| | 0 0 0 |            | -171/2 -215/2 -1133/6 | | -11657/6 -2320   -7777/2   |                    |\n",
      "|                                                                                                  |\n",
      "| | 0 0 0 |            | 0 0 0 |                 | -3041788/28869 -1117765/9623  -5149804/28869  | |\n",
      "| | 0 0 0 |            | 0 0 0 |                 | -1275918/9623  -4485712/28869 -7340438/28869  | |\n",
      "| | 0 0 0 |            | 0 0 0 |                 | -1923112/9623  -2372295/9623  -12334768/28869 | |\n",
      "| | 317/6 60  571/6  |   | 323/6 125/2 203/2  | | 899    6515/6 16573/9 | |\n",
      "| | 206/3 81  134    |   | 215/3 85    425/3  | | 3749/3 4502/3 22769/9 | |\n",
      "| | 213/2 130 1337/6 |   | 227/2 275/2 1403/6 | | 6169/3 4915/2 12367/3 | |\n",
      "|                                                                         |\n",
      "| | 311/6 115/2 533/6  | | 3  15/2 19 |         | 1 5/2  19/3 |           |\n",
      "| | 197/3 77    379/3  | | 9  12   23 |         | 3 4    23/3 |           |\n",
      "| | 199/2 245/2 1271/6 | | 21 45/2 33 |         | 7 15/2 11   |           |\n",
      "|                                                                         |\n",
      "| | 1 5/2  19/3 |        | 2  5  38/3 |         | 3  15/2 19 |            |\n",
      "| | 3 4    23/3 |        | 6  8  46/3 |         | 9  12   23 |            |\n",
      "| | 7 15/2 11   |        | 14 15 22   |         | 21 45/2 33 |            |\n"
     ]
    }
   ],
   "source": [
    "matr = FullMatrix.zero(3,3,m)\n",
    "matr[0,0]=m*m\n",
    "matr[0,1]=m+m*m\n",
    "matr[0,2]=m*m*m\n",
    "matr[1,0]=m*m-m\n",
    "matr[1,1]=m*3\n",
    "matr[1,2]=m\n",
    "matr[2,0]=m\n",
    "matr[2,1]=m*2\n",
    "matr[2,2]=m*3\n",
    "print(matr)\n",
    "print(matr.lu()[0])\n",
    "print('\\n',matr.lu()[1])\n",
    "matr_new = matr.lu()[0]*matr.lu()[1]\n",
    "print(matr_new)"
   ]
  },
  {
   "cell_type": "markdown",
   "id": "7eca7318-76c6-470f-be71-261773a7de22",
   "metadata": {
    "pycharm": {
     "name": "#%% md\n"
    }
   },
   "source": [
    "#### Вырожденные матрицы"
   ]
  },
  {
   "cell_type": "code",
   "execution_count": 6,
   "id": "bcdef759-3ac5-45c7-a156-e85c3523225f",
   "metadata": {
    "pycharm": {
     "name": "#%%\n"
    }
   },
   "outputs": [
    {
     "name": "stdout",
     "output_type": "stream",
     "text": [
      "| 1 1/2  1/3  1/4  1/5  |\n",
      "| 3 2    5/3  3/2  7/5  |\n",
      "| 5 7/2  3    11/4 13/5 |\n",
      "| 7 5    13/3 4    19/5 |\n",
      "| 9 13/2 17/3 21/4 5    |\n"
     ]
    },
    {
     "ename": "ZeroDivisionError",
     "evalue": "Fraction(1, 0)",
     "output_type": "error",
     "traceback": [
      "\u001B[1;31m---------------------------------------------------------------------------\u001B[0m",
      "\u001B[1;31mZeroDivisionError\u001B[0m                         Traceback (most recent call last)",
      "Cell \u001B[1;32mIn [6], line 15\u001B[0m\n\u001B[0;32m      8\u001B[0m \u001B[38;5;124;03m'''print(m)\u001B[39;00m\n\u001B[0;32m      9\u001B[0m \u001B[38;5;124;03mprint(m.shape)\u001B[39;00m\n\u001B[0;32m     10\u001B[0m \u001B[38;5;124;03mprint(m.dtype)\u001B[39;00m\n\u001B[0;32m     11\u001B[0m \u001B[38;5;124;03mprint(f\"m+m\", m+m)\u001B[39;00m\n\u001B[0;32m     12\u001B[0m \u001B[38;5;124;03mprint(f\"m*d\", m*d)\u001B[39;00m\n\u001B[0;32m     13\u001B[0m \u001B[38;5;124;03m'''\u001B[39;00m\n\u001B[0;32m     14\u001B[0m \u001B[38;5;28mprint\u001B[39m(m)\n\u001B[1;32m---> 15\u001B[0m \u001B[38;5;28mprint\u001B[39m(\u001B[43mm\u001B[49m\u001B[38;5;241;43m.\u001B[39;49m\u001B[43mdet\u001B[49m\u001B[43m(\u001B[49m\u001B[43m)\u001B[49m)\n",
      "Cell \u001B[1;32mIn [2], line 159\u001B[0m, in \u001B[0;36mMatrix.det\u001B[1;34m(self)\u001B[0m\n\u001B[0;32m    157\u001B[0m \u001B[38;5;28;01mdef\u001B[39;00m \u001B[38;5;21mdet\u001B[39m(\u001B[38;5;28mself\u001B[39m):\n\u001B[0;32m    158\u001B[0m     \u001B[38;5;28;01massert\u001B[39;00m \u001B[38;5;28mself\u001B[39m\u001B[38;5;241m.\u001B[39mwidth\u001B[38;5;241m==\u001B[39m\u001B[38;5;28mself\u001B[39m\u001B[38;5;241m.\u001B[39mheight, \u001B[38;5;124mf\u001B[39m\u001B[38;5;124m\"\u001B[39m\u001B[38;5;124mMatrix is not square: \u001B[39m\u001B[38;5;132;01m{\u001B[39;00m\u001B[38;5;28mself\u001B[39m\u001B[38;5;241m.\u001B[39mheight\u001B[38;5;132;01m}\u001B[39;00m\u001B[38;5;124m != \u001B[39m\u001B[38;5;132;01m{\u001B[39;00m\u001B[38;5;28mself\u001B[39m\u001B[38;5;241m.\u001B[39mwidth\u001B[38;5;132;01m}\u001B[39;00m\u001B[38;5;124m\"\u001B[39m\n\u001B[1;32m--> 159\u001B[0m     l,u \u001B[38;5;241m=\u001B[39m \u001B[38;5;28;43mself\u001B[39;49m\u001B[38;5;241;43m.\u001B[39;49m\u001B[43mlu\u001B[49m\u001B[43m(\u001B[49m\u001B[43m)\u001B[49m\n\u001B[0;32m    160\u001B[0m     det \u001B[38;5;241m=\u001B[39m \u001B[38;5;241m1\u001B[39m\n\u001B[0;32m    161\u001B[0m     \u001B[38;5;28;01mfor\u001B[39;00m i \u001B[38;5;129;01min\u001B[39;00m \u001B[38;5;28mrange\u001B[39m(u\u001B[38;5;241m.\u001B[39mheight):\n",
      "Cell \u001B[1;32mIn [2], line 307\u001B[0m, in \u001B[0;36mFullMatrix.lu\u001B[1;34m(self)\u001B[0m\n\u001B[0;32m    305\u001B[0m             \u001B[38;5;28;01mfor\u001B[39;00m k \u001B[38;5;129;01min\u001B[39;00m \u001B[38;5;28mrange\u001B[39m(j\u001B[38;5;241m+\u001B[39m\u001B[38;5;241m1\u001B[39m):\n\u001B[0;32m    306\u001B[0m                 temp[i,j] \u001B[38;5;241m=\u001B[39m temp[i,j] \u001B[38;5;241m+\u001B[39m l[i,k]\u001B[38;5;241m*\u001B[39mu[k,j]\n\u001B[1;32m--> 307\u001B[0m             l[i,j] \u001B[38;5;241m=\u001B[39m (\u001B[38;5;28mself\u001B[39m[i,j]\u001B[38;5;241m-\u001B[39mtemp[i,j])\u001B[38;5;241m*\u001B[39m\u001B[43mu\u001B[49m\u001B[38;5;241;43m.\u001B[39;49m\u001B[43minvert_element\u001B[49m\u001B[43m(\u001B[49m\u001B[43mu\u001B[49m\u001B[43m[\u001B[49m\u001B[43mj\u001B[49m\u001B[43m,\u001B[49m\u001B[43mj\u001B[49m\u001B[43m]\u001B[49m\u001B[43m)\u001B[49m\n\u001B[0;32m    308\u001B[0m \u001B[38;5;28;01mreturn\u001B[39;00m l,u\n",
      "Cell \u001B[1;32mIn [2], line 147\u001B[0m, in \u001B[0;36mMatrix.invert_element\u001B[1;34m(self, element)\u001B[0m\n\u001B[0;32m    145\u001B[0m \u001B[38;5;28;01mdef\u001B[39;00m \u001B[38;5;21minvert_element\u001B[39m(\u001B[38;5;28mself\u001B[39m, element):\n\u001B[0;32m    146\u001B[0m     \u001B[38;5;28;01mif\u001B[39;00m \u001B[38;5;28misinstance\u001B[39m(element, Number):\n\u001B[1;32m--> 147\u001B[0m         \u001B[38;5;28;01mreturn\u001B[39;00m \u001B[38;5;241;43m1\u001B[39;49m\u001B[38;5;241;43m/\u001B[39;49m\u001B[43melement\u001B[49m\n\u001B[0;32m    148\u001B[0m     \u001B[38;5;28;01mif\u001B[39;00m \u001B[38;5;28misinstance\u001B[39m(element, Fraction):\n\u001B[0;32m    149\u001B[0m         \u001B[38;5;28;01mreturn\u001B[39;00m \u001B[38;5;241m1\u001B[39m\u001B[38;5;241m/\u001B[39melement\n",
      "File \u001B[1;32m~\\AppData\\Local\\Programs\\Python\\Python310\\lib\\fractions.py:371\u001B[0m, in \u001B[0;36mFraction._operator_fallbacks.<locals>.reverse\u001B[1;34m(b, a)\u001B[0m\n\u001B[0;32m    368\u001B[0m \u001B[38;5;28;01mdef\u001B[39;00m \u001B[38;5;21mreverse\u001B[39m(b, a):\n\u001B[0;32m    369\u001B[0m     \u001B[38;5;28;01mif\u001B[39;00m \u001B[38;5;28misinstance\u001B[39m(a, numbers\u001B[38;5;241m.\u001B[39mRational):\n\u001B[0;32m    370\u001B[0m         \u001B[38;5;66;03m# Includes ints.\u001B[39;00m\n\u001B[1;32m--> 371\u001B[0m         \u001B[38;5;28;01mreturn\u001B[39;00m \u001B[43mmonomorphic_operator\u001B[49m\u001B[43m(\u001B[49m\u001B[43ma\u001B[49m\u001B[43m,\u001B[49m\u001B[43m \u001B[49m\u001B[43mb\u001B[49m\u001B[43m)\u001B[49m\n\u001B[0;32m    372\u001B[0m     \u001B[38;5;28;01melif\u001B[39;00m \u001B[38;5;28misinstance\u001B[39m(a, numbers\u001B[38;5;241m.\u001B[39mReal):\n\u001B[0;32m    373\u001B[0m         \u001B[38;5;28;01mreturn\u001B[39;00m fallback_operator(\u001B[38;5;28mfloat\u001B[39m(a), \u001B[38;5;28mfloat\u001B[39m(b))\n",
      "File \u001B[1;32m~\\AppData\\Local\\Programs\\Python\\Python310\\lib\\fractions.py:515\u001B[0m, in \u001B[0;36mFraction._div\u001B[1;34m(a, b)\u001B[0m\n\u001B[0;32m    513\u001B[0m \u001B[38;5;28;01mif\u001B[39;00m d \u001B[38;5;241m<\u001B[39m \u001B[38;5;241m0\u001B[39m:\n\u001B[0;32m    514\u001B[0m     n, d \u001B[38;5;241m=\u001B[39m \u001B[38;5;241m-\u001B[39mn, \u001B[38;5;241m-\u001B[39md\n\u001B[1;32m--> 515\u001B[0m \u001B[38;5;28;01mreturn\u001B[39;00m \u001B[43mFraction\u001B[49m\u001B[43m(\u001B[49m\u001B[43mn\u001B[49m\u001B[43m,\u001B[49m\u001B[43m \u001B[49m\u001B[43md\u001B[49m\u001B[43m,\u001B[49m\u001B[43m \u001B[49m\u001B[43m_normalize\u001B[49m\u001B[38;5;241;43m=\u001B[39;49m\u001B[38;5;28;43;01mFalse\u001B[39;49;00m\u001B[43m)\u001B[49m\n",
      "File \u001B[1;32m~\\AppData\\Local\\Programs\\Python\\Python310\\lib\\fractions.py:156\u001B[0m, in \u001B[0;36mFraction.__new__\u001B[1;34m(cls, numerator, denominator, _normalize)\u001B[0m\n\u001B[0;32m    152\u001B[0m     \u001B[38;5;28;01mraise\u001B[39;00m \u001B[38;5;167;01mTypeError\u001B[39;00m(\u001B[38;5;124m\"\u001B[39m\u001B[38;5;124mboth arguments should be \u001B[39m\u001B[38;5;124m\"\u001B[39m\n\u001B[0;32m    153\u001B[0m                     \u001B[38;5;124m\"\u001B[39m\u001B[38;5;124mRational instances\u001B[39m\u001B[38;5;124m\"\u001B[39m)\n\u001B[0;32m    155\u001B[0m \u001B[38;5;28;01mif\u001B[39;00m denominator \u001B[38;5;241m==\u001B[39m \u001B[38;5;241m0\u001B[39m:\n\u001B[1;32m--> 156\u001B[0m     \u001B[38;5;28;01mraise\u001B[39;00m \u001B[38;5;167;01mZeroDivisionError\u001B[39;00m(\u001B[38;5;124m'\u001B[39m\u001B[38;5;124mFraction(\u001B[39m\u001B[38;5;132;01m%s\u001B[39;00m\u001B[38;5;124m, 0)\u001B[39m\u001B[38;5;124m'\u001B[39m \u001B[38;5;241m%\u001B[39m numerator)\n\u001B[0;32m    157\u001B[0m \u001B[38;5;28;01mif\u001B[39;00m _normalize:\n\u001B[0;32m    158\u001B[0m     g \u001B[38;5;241m=\u001B[39m math\u001B[38;5;241m.\u001B[39mgcd(numerator, denominator)\n",
      "\u001B[1;31mZeroDivisionError\u001B[0m: Fraction(1, 0)"
     ]
    }
   ],
   "source": [
    "m = FullMatrix.zero(5,5,Fraction(1,2))\n",
    "for i in range(m.height):\n",
    "    for j in range(m.width):\n",
    "        m[i,j] = Fraction(i+1,j+1)+i\n",
    "d = FullMatrix.zero(3,3,Fraction(0,1))\n",
    "for i in range(min(d.height,d.width)):\n",
    "        d[i,i] = Fraction(i,1)        \n",
    "'''print(m)\n",
    "print(m.shape)\n",
    "print(m.dtype)\n",
    "print(f\"m+m\", m+m)\n",
    "print(f\"m*d\", m*d)\n",
    "'''\n",
    "print(m)\n",
    "print(m.det())"
   ]
  },
  {
   "cell_type": "markdown",
   "id": "035c2718-5e28-4e39-bfe9-dee623d603c3",
   "metadata": {
    "pycharm": {
     "name": "#%% md\n"
    }
   },
   "source": [
    "### LUP"
   ]
  },
  {
   "cell_type": "code",
   "execution_count": 21,
   "outputs": [
    {
     "name": "stdout",
     "output_type": "stream",
     "text": [
      "| 1  3/2  13/3 37/4 |\n",
      "| 3  3    17/3 21/2 |\n",
      "| 7  13/2 9    55/4 |\n",
      "| 13 12   43/3 19   |\n",
      "det 0\n",
      "l\n",
      "| 1    0    0 0 |\n",
      "| 1/13 1    0 0 |\n",
      "| 3/13 2/5  1 0 |\n",
      "| 7/13 1/15 1 1 |\n",
      "u\n",
      "| 13 12    43/3  19     |\n",
      "| 0  15/26 42/13 405/52 |\n",
      "| 0  0     16/15 3      |\n",
      "| 0  0     0     0      |\n",
      "p\n",
      "| 0 0 0 1 |\n",
      "| 1 0 0 0 |\n",
      "| 0 1 0 0 |\n",
      "| 0 0 1 0 |\n",
      "| 1  3/2  13/3 37/4 |\n",
      "| 3  3    17/3 21/2 |\n",
      "| 7  13/2 9    55/4 |\n",
      "| 13 12   43/3 19   |\n"
     ]
    }
   ],
   "source": [
    "m = FullMatrix.zero(4,4,Fraction(1,2))\n",
    "for i in range(m.height):\n",
    "    for j in range(m.width):\n",
    "        m[i,j] = Fraction(i+1,j+1)+i*i+j*j\n",
    "print(m)\n",
    "print(\"det\",m.det())\n",
    "temp,l,u,p = m.lup()\n",
    "print(\"l\")\n",
    "print(l)\n",
    "print(\"u\")\n",
    "print(u)\n",
    "print(\"p\")\n",
    "print(p)\n",
    "m_new = p.transpone()*l*u\n",
    "print(m_new)"
   ],
   "metadata": {
    "collapsed": false,
    "pycharm": {
     "name": "#%%\n"
    }
   }
  },
  {
   "cell_type": "markdown",
   "source": [
    "#### Вырожденная"
   ],
   "metadata": {
    "collapsed": false,
    "pycharm": {
     "name": "#%% md\n"
    }
   }
  },
  {
   "cell_type": "code",
   "execution_count": 7,
   "outputs": [
    {
     "name": "stdout",
     "output_type": "stream",
     "text": [
      "| 1 1/2  1/3  1/4  1/5  |\n",
      "| 3 2    5/3  3/2  7/5  |\n",
      "| 5 7/2  3    11/4 13/5 |\n",
      "| 7 5    13/3 4    19/5 |\n",
      "| 9 13/2 17/3 21/4 5    |\n"
     ]
    },
    {
     "ename": "ZeroDivisionError",
     "evalue": "Fraction(1, 0)",
     "output_type": "error",
     "traceback": [
      "\u001B[1;31m---------------------------------------------------------------------------\u001B[0m",
      "\u001B[1;31mZeroDivisionError\u001B[0m                         Traceback (most recent call last)",
      "Cell \u001B[1;32mIn [7], line 6\u001B[0m\n\u001B[0;32m      4\u001B[0m         m[i,j] \u001B[38;5;241m=\u001B[39m Fraction(i\u001B[38;5;241m+\u001B[39m\u001B[38;5;241m1\u001B[39m,j\u001B[38;5;241m+\u001B[39m\u001B[38;5;241m1\u001B[39m)\u001B[38;5;241m+\u001B[39mi\n\u001B[0;32m      5\u001B[0m \u001B[38;5;28mprint\u001B[39m(m)\n\u001B[1;32m----> 6\u001B[0m \u001B[38;5;28mprint\u001B[39m(\u001B[38;5;124m\"\u001B[39m\u001B[38;5;124mdet\u001B[39m\u001B[38;5;124m\"\u001B[39m,\u001B[43mm\u001B[49m\u001B[38;5;241;43m.\u001B[39;49m\u001B[43mdet\u001B[49m\u001B[43m(\u001B[49m\u001B[43m)\u001B[49m)\n\u001B[0;32m      7\u001B[0m temp,l,u,p \u001B[38;5;241m=\u001B[39m m\u001B[38;5;241m.\u001B[39mlup()\n\u001B[0;32m      8\u001B[0m \u001B[38;5;28mprint\u001B[39m(\u001B[38;5;124m\"\u001B[39m\u001B[38;5;124mtemp\u001B[39m\u001B[38;5;124m\"\u001B[39m)\n",
      "Cell \u001B[1;32mIn [2], line 159\u001B[0m, in \u001B[0;36mMatrix.det\u001B[1;34m(self)\u001B[0m\n\u001B[0;32m    157\u001B[0m \u001B[38;5;28;01mdef\u001B[39;00m \u001B[38;5;21mdet\u001B[39m(\u001B[38;5;28mself\u001B[39m):\n\u001B[0;32m    158\u001B[0m     \u001B[38;5;28;01massert\u001B[39;00m \u001B[38;5;28mself\u001B[39m\u001B[38;5;241m.\u001B[39mwidth\u001B[38;5;241m==\u001B[39m\u001B[38;5;28mself\u001B[39m\u001B[38;5;241m.\u001B[39mheight, \u001B[38;5;124mf\u001B[39m\u001B[38;5;124m\"\u001B[39m\u001B[38;5;124mMatrix is not square: \u001B[39m\u001B[38;5;132;01m{\u001B[39;00m\u001B[38;5;28mself\u001B[39m\u001B[38;5;241m.\u001B[39mheight\u001B[38;5;132;01m}\u001B[39;00m\u001B[38;5;124m != \u001B[39m\u001B[38;5;132;01m{\u001B[39;00m\u001B[38;5;28mself\u001B[39m\u001B[38;5;241m.\u001B[39mwidth\u001B[38;5;132;01m}\u001B[39;00m\u001B[38;5;124m\"\u001B[39m\n\u001B[1;32m--> 159\u001B[0m     l,u \u001B[38;5;241m=\u001B[39m \u001B[38;5;28;43mself\u001B[39;49m\u001B[38;5;241;43m.\u001B[39;49m\u001B[43mlu\u001B[49m\u001B[43m(\u001B[49m\u001B[43m)\u001B[49m\n\u001B[0;32m    160\u001B[0m     det \u001B[38;5;241m=\u001B[39m \u001B[38;5;241m1\u001B[39m\n\u001B[0;32m    161\u001B[0m     \u001B[38;5;28;01mfor\u001B[39;00m i \u001B[38;5;129;01min\u001B[39;00m \u001B[38;5;28mrange\u001B[39m(u\u001B[38;5;241m.\u001B[39mheight):\n",
      "Cell \u001B[1;32mIn [2], line 307\u001B[0m, in \u001B[0;36mFullMatrix.lu\u001B[1;34m(self)\u001B[0m\n\u001B[0;32m    305\u001B[0m             \u001B[38;5;28;01mfor\u001B[39;00m k \u001B[38;5;129;01min\u001B[39;00m \u001B[38;5;28mrange\u001B[39m(j\u001B[38;5;241m+\u001B[39m\u001B[38;5;241m1\u001B[39m):\n\u001B[0;32m    306\u001B[0m                 temp[i,j] \u001B[38;5;241m=\u001B[39m temp[i,j] \u001B[38;5;241m+\u001B[39m l[i,k]\u001B[38;5;241m*\u001B[39mu[k,j]\n\u001B[1;32m--> 307\u001B[0m             l[i,j] \u001B[38;5;241m=\u001B[39m (\u001B[38;5;28mself\u001B[39m[i,j]\u001B[38;5;241m-\u001B[39mtemp[i,j])\u001B[38;5;241m*\u001B[39m\u001B[43mu\u001B[49m\u001B[38;5;241;43m.\u001B[39;49m\u001B[43minvert_element\u001B[49m\u001B[43m(\u001B[49m\u001B[43mu\u001B[49m\u001B[43m[\u001B[49m\u001B[43mj\u001B[49m\u001B[43m,\u001B[49m\u001B[43mj\u001B[49m\u001B[43m]\u001B[49m\u001B[43m)\u001B[49m\n\u001B[0;32m    308\u001B[0m \u001B[38;5;28;01mreturn\u001B[39;00m l,u\n",
      "Cell \u001B[1;32mIn [2], line 147\u001B[0m, in \u001B[0;36mMatrix.invert_element\u001B[1;34m(self, element)\u001B[0m\n\u001B[0;32m    145\u001B[0m \u001B[38;5;28;01mdef\u001B[39;00m \u001B[38;5;21minvert_element\u001B[39m(\u001B[38;5;28mself\u001B[39m, element):\n\u001B[0;32m    146\u001B[0m     \u001B[38;5;28;01mif\u001B[39;00m \u001B[38;5;28misinstance\u001B[39m(element, Number):\n\u001B[1;32m--> 147\u001B[0m         \u001B[38;5;28;01mreturn\u001B[39;00m \u001B[38;5;241;43m1\u001B[39;49m\u001B[38;5;241;43m/\u001B[39;49m\u001B[43melement\u001B[49m\n\u001B[0;32m    148\u001B[0m     \u001B[38;5;28;01mif\u001B[39;00m \u001B[38;5;28misinstance\u001B[39m(element, Fraction):\n\u001B[0;32m    149\u001B[0m         \u001B[38;5;28;01mreturn\u001B[39;00m \u001B[38;5;241m1\u001B[39m\u001B[38;5;241m/\u001B[39melement\n",
      "File \u001B[1;32m~\\AppData\\Local\\Programs\\Python\\Python310\\lib\\fractions.py:371\u001B[0m, in \u001B[0;36mFraction._operator_fallbacks.<locals>.reverse\u001B[1;34m(b, a)\u001B[0m\n\u001B[0;32m    368\u001B[0m \u001B[38;5;28;01mdef\u001B[39;00m \u001B[38;5;21mreverse\u001B[39m(b, a):\n\u001B[0;32m    369\u001B[0m     \u001B[38;5;28;01mif\u001B[39;00m \u001B[38;5;28misinstance\u001B[39m(a, numbers\u001B[38;5;241m.\u001B[39mRational):\n\u001B[0;32m    370\u001B[0m         \u001B[38;5;66;03m# Includes ints.\u001B[39;00m\n\u001B[1;32m--> 371\u001B[0m         \u001B[38;5;28;01mreturn\u001B[39;00m \u001B[43mmonomorphic_operator\u001B[49m\u001B[43m(\u001B[49m\u001B[43ma\u001B[49m\u001B[43m,\u001B[49m\u001B[43m \u001B[49m\u001B[43mb\u001B[49m\u001B[43m)\u001B[49m\n\u001B[0;32m    372\u001B[0m     \u001B[38;5;28;01melif\u001B[39;00m \u001B[38;5;28misinstance\u001B[39m(a, numbers\u001B[38;5;241m.\u001B[39mReal):\n\u001B[0;32m    373\u001B[0m         \u001B[38;5;28;01mreturn\u001B[39;00m fallback_operator(\u001B[38;5;28mfloat\u001B[39m(a), \u001B[38;5;28mfloat\u001B[39m(b))\n",
      "File \u001B[1;32m~\\AppData\\Local\\Programs\\Python\\Python310\\lib\\fractions.py:515\u001B[0m, in \u001B[0;36mFraction._div\u001B[1;34m(a, b)\u001B[0m\n\u001B[0;32m    513\u001B[0m \u001B[38;5;28;01mif\u001B[39;00m d \u001B[38;5;241m<\u001B[39m \u001B[38;5;241m0\u001B[39m:\n\u001B[0;32m    514\u001B[0m     n, d \u001B[38;5;241m=\u001B[39m \u001B[38;5;241m-\u001B[39mn, \u001B[38;5;241m-\u001B[39md\n\u001B[1;32m--> 515\u001B[0m \u001B[38;5;28;01mreturn\u001B[39;00m \u001B[43mFraction\u001B[49m\u001B[43m(\u001B[49m\u001B[43mn\u001B[49m\u001B[43m,\u001B[49m\u001B[43m \u001B[49m\u001B[43md\u001B[49m\u001B[43m,\u001B[49m\u001B[43m \u001B[49m\u001B[43m_normalize\u001B[49m\u001B[38;5;241;43m=\u001B[39;49m\u001B[38;5;28;43;01mFalse\u001B[39;49;00m\u001B[43m)\u001B[49m\n",
      "File \u001B[1;32m~\\AppData\\Local\\Programs\\Python\\Python310\\lib\\fractions.py:156\u001B[0m, in \u001B[0;36mFraction.__new__\u001B[1;34m(cls, numerator, denominator, _normalize)\u001B[0m\n\u001B[0;32m    152\u001B[0m     \u001B[38;5;28;01mraise\u001B[39;00m \u001B[38;5;167;01mTypeError\u001B[39;00m(\u001B[38;5;124m\"\u001B[39m\u001B[38;5;124mboth arguments should be \u001B[39m\u001B[38;5;124m\"\u001B[39m\n\u001B[0;32m    153\u001B[0m                     \u001B[38;5;124m\"\u001B[39m\u001B[38;5;124mRational instances\u001B[39m\u001B[38;5;124m\"\u001B[39m)\n\u001B[0;32m    155\u001B[0m \u001B[38;5;28;01mif\u001B[39;00m denominator \u001B[38;5;241m==\u001B[39m \u001B[38;5;241m0\u001B[39m:\n\u001B[1;32m--> 156\u001B[0m     \u001B[38;5;28;01mraise\u001B[39;00m \u001B[38;5;167;01mZeroDivisionError\u001B[39;00m(\u001B[38;5;124m'\u001B[39m\u001B[38;5;124mFraction(\u001B[39m\u001B[38;5;132;01m%s\u001B[39;00m\u001B[38;5;124m, 0)\u001B[39m\u001B[38;5;124m'\u001B[39m \u001B[38;5;241m%\u001B[39m numerator)\n\u001B[0;32m    157\u001B[0m \u001B[38;5;28;01mif\u001B[39;00m _normalize:\n\u001B[0;32m    158\u001B[0m     g \u001B[38;5;241m=\u001B[39m math\u001B[38;5;241m.\u001B[39mgcd(numerator, denominator)\n",
      "\u001B[1;31mZeroDivisionError\u001B[0m: Fraction(1, 0)"
     ]
    }
   ],
   "source": [
    "m = FullMatrix.zero(5,5,Fraction(1,2))\n",
    "for i in range(m.height):\n",
    "    for j in range(m.width):\n",
    "        m[i,j] = Fraction(i+1,j+1)+i\n",
    "print(m)\n",
    "print(\"det\",m.det())\n",
    "temp,l,u,p = m.lup()\n",
    "print(\"temp\")\n",
    "print(temp)\n",
    "print(\"l\")\n",
    "print(l)\n",
    "print(\"u\")\n",
    "print(u)\n",
    "print(\"p\")\n",
    "print(p)\n",
    "m_new = p.transpone()*l*u\n",
    "print(m_new)"
   ],
   "metadata": {
    "collapsed": false,
    "pycharm": {
     "name": "#%%\n"
    }
   }
  },
  {
   "cell_type": "markdown",
   "source": [
    "проверить матрицы с нулевым главным минором"
   ],
   "metadata": {
    "collapsed": false,
    "pycharm": {
     "name": "#%% md\n"
    }
   }
  },
  {
   "cell_type": "code",
   "execution_count": 8,
   "outputs": [
    {
     "name": "stdout",
     "output_type": "stream",
     "text": [
      "b= | 1   |\n",
      "| 2   |\n",
      "| 1/2 |\n",
      "| 1 -2/3 -19/5 |\n",
      "| 3 5/3  -3/5  |\n",
      "| 7 6    23/5  | D= -4/5\n",
      "mb= | -67/30 |\n",
      "| 181/30 |\n",
      "| 213/10 |\n",
      "\n",
      " | 745/24 |\n",
      "| -195/4 |\n",
      "| 395/24 |\n"
     ]
    }
   ],
   "source": [
    "m = FullMatrix.zero(3,3,Fraction(1,2))\n",
    "for i in range(m.height):\n",
    "    for j in range(m.width):\n",
    "        m[i,j] = Fraction(i+1,j+j+1)+i*i-j*j+i*j\n",
    "b = FullMatrix.zero(3,1,Fraction(1,2))\n",
    "for i in range(2):\n",
    "    b[i,0] = i+1\n",
    "print(\"b=\",b)\n",
    "print(m,\"D=\",m.det())\n",
    "mb = m*b\n",
    "print(\"mb=\",mb)\n",
    "print(\"\\n\",m.solve(b))\n"
   ],
   "metadata": {
    "collapsed": false,
    "pycharm": {
     "name": "#%%\n"
    }
   }
  },
  {
   "cell_type": "markdown",
   "source": [
    "## Симметричные матрицы"
   ],
   "metadata": {
    "collapsed": false,
    "pycharm": {
     "name": "#%% md\n"
    }
   }
  },
  {
   "cell_type": "code",
   "execution_count": 9,
   "outputs": [
    {
     "name": "stdout",
     "output_type": "stream",
     "text": [
      "| 4   12  -16 |\n",
      "| 12  37  -43 |\n",
      "| -16 -43 98  |\n",
      "(| 2  0 0 |\n",
      "| 6  1 0 |\n",
      "| -8 5 3 |, | 2 6 -8 |\n",
      "| 0 1 5  |\n",
      "| 0 0 3  |)\n",
      "| 4   12  -16 |\n",
      "| 12  37  -43 |\n",
      "| -16 -43 98  |\n"
     ]
    }
   ],
   "source": [
    "m = SymmetricMatrix.zero(3,3,Fraction)\n",
    "m[1,2]=-43\n",
    "m[0,0]=4\n",
    "m[0,1]=12\n",
    "m[0,2]=-16\n",
    "m[1,1]=37\n",
    "m[2,2]=98\n",
    "print(m)\n",
    "print(m.lu())\n",
    "print(m.lu()[0]*m.lu()[1])"
   ],
   "metadata": {
    "collapsed": false,
    "pycharm": {
     "name": "#%%\n"
    }
   }
  },
  {
   "cell_type": "markdown",
   "source": [
    "### Матрица с нулевым минором"
   ],
   "metadata": {
    "collapsed": false,
    "pycharm": {
     "name": "#%% md\n"
    }
   }
  },
  {
   "cell_type": "code",
   "execution_count": 22,
   "outputs": [
    {
     "name": "stdout",
     "output_type": "stream",
     "text": [
      "| 5 5 3 |\n",
      "| 6 6 4 |\n",
      "| 1 2 3 |\n",
      "(| 1 0 0 |\n",
      "| 1 1 0 |\n",
      "| 0 2 1 |, | 5 5 3 |\n",
      "| 0 1 1 |\n",
      "| 0 0 1 |)\n",
      "| 5 5 3 |\n",
      "| 5 6 4 |\n",
      "| 0 2 3 |\n",
      "\n",
      " | 5 5 3 |\n",
      "| 6 6 4 |\n",
      "| 1 2 3 |\n",
      "| 0 0 0 |\n",
      "| 6 6 4 |\n",
      "| 0 1 2 |\n"
     ]
    }
   ],
   "source": [
    "m = FullMatrix.zero(3,3,Fraction(0,24))\n",
    "m[0,0] = 5\n",
    "m[0,1] = 5\n",
    "m[0,2] = 3\n",
    "m[1,0] = 6\n",
    "m[1,1] = 6\n",
    "m[1,2] = 4\n",
    "m[2,0] = 1\n",
    "m[2,1] = 2\n",
    "m[2,2] = 3\n",
    "print(m)\n",
    "print(m.lu())\n",
    "print(m.lu()[0]*m.lu()[1])\n",
    "print(\"\\n\",m)\n",
    "g,l,u,p = m.lup()\n",
    "print(p.transpone()*l*u)"
   ],
   "metadata": {
    "collapsed": false,
    "pycharm": {
     "name": "#%%\n"
    }
   }
  },
  {
   "cell_type": "code",
   "execution_count": null,
   "outputs": [],
   "source": [],
   "metadata": {
    "collapsed": false,
    "pycharm": {
     "name": "#%%\n"
    }
   }
  }
 ],
 "metadata": {
  "kernelspec": {
   "display_name": "Python 3 (ipykernel)",
   "language": "python",
   "name": "python3"
  },
  "language_info": {
   "codemirror_mode": {
    "name": "ipython",
    "version": 3
   },
   "file_extension": ".py",
   "mimetype": "text/x-python",
   "name": "python",
   "nbconvert_exporter": "python",
   "pygments_lexer": "ipython3",
   "version": "3.10.11"
  }
 },
 "nbformat": 4,
 "nbformat_minor": 5
}