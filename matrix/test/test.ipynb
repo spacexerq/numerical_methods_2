{
 "cells": [
  {
   "cell_type": "markdown",
   "source": [
    "## Testing functions"
   ],
   "metadata": {
    "collapsed": false,
    "pycharm": {
     "name": "#%% md\n"
    }
   }
  },
  {
   "cell_type": "code",
   "execution_count": 1,
   "outputs": [
    {
     "ename": "SyntaxError",
     "evalue": "invalid syntax (2184929726.py, line 2)",
     "output_type": "error",
     "traceback": [
      "\u001B[1;36m  Cell \u001B[1;32mIn [1], line 2\u001B[1;36m\u001B[0m\n\u001B[1;33m    import MatLib_babich.ipynb from matrix\u001B[0m\n\u001B[1;37m                               ^\u001B[0m\n\u001B[1;31mSyntaxError\u001B[0m\u001B[1;31m:\u001B[0m invalid syntax\n"
     ]
    }
   ],
   "source": [
    "import numpy as np\n",
    "\n",
    "def test_matrixes():\n",
    "    #Full\n",
    "    #Symmetric\n",
    "    #Block\n",
    "    #Band\n",
    "    number_space = np.linspace(1,1e6,100)\n",
    "    for n in number_space:\n",
    "        m_full = FullMatrix.zero(n,n)\n",
    "        m_symm = SymmetricMatrix.zero(n,n)\n",
    "        m_\n",
    "\n",
    "def test_lu():\n"
   ],
   "metadata": {
    "collapsed": false,
    "pycharm": {
     "name": "#%%\n"
    }
   }
  },
  {
   "cell_type": "code",
   "execution_count": null,
   "outputs": [],
   "source": [],
   "metadata": {
    "collapsed": false,
    "pycharm": {
     "name": "#%%\n"
    }
   }
  }
 ],
 "metadata": {
  "kernelspec": {
   "display_name": "Python 3",
   "language": "python",
   "name": "python3"
  },
  "language_info": {
   "codemirror_mode": {
    "name": "ipython",
    "version": 2
   },
   "file_extension": ".py",
   "mimetype": "text/x-python",
   "name": "python",
   "nbconvert_exporter": "python",
   "pygments_lexer": "ipython2",
   "version": "2.7.6"
  }
 },
 "nbformat": 4,
 "nbformat_minor": 0
}